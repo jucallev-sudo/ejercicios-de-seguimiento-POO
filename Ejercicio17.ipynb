{
  "nbformat": 4,
  "nbformat_minor": 0,
  "metadata": {
    "colab": {
      "provenance": [],
      "authorship_tag": "ABX9TyO2vGMj+8RE/FR6Mb5GsaYf",
      "include_colab_link": true
    },
    "kernelspec": {
      "name": "python3",
      "display_name": "Python 3"
    },
    "language_info": {
      "name": "python"
    }
  },
  "cells": [
    {
      "cell_type": "markdown",
      "metadata": {
        "id": "view-in-github",
        "colab_type": "text"
      },
      "source": [
        "<a href=\"https://colab.research.google.com/github/jucallev-sudo/ejercicios-de-seguimiento-POO/blob/main/Ejercicio17.ipynb\" target=\"_parent\"><img src=\"https://colab.research.google.com/assets/colab-badge.svg\" alt=\"Open In Colab\"/></a>"
      ]
    },
    {
      "cell_type": "code",
      "execution_count": 13,
      "metadata": {
        "colab": {
          "base_uri": "https://localhost:8080/"
        },
        "id": "RrT48ySSZcMV",
        "outputId": "9050fbd3-4a91-4e3b-ca4a-585f6bc6c7d6"
      },
      "outputs": [
        {
          "output_type": "stream",
          "name": "stdout",
          "text": [
            "Ingrese el radio del círculo: 12\n",
            "El área del círculo es:  452.3904 cm\n",
            "La longitud de la circunferencia es:  75.3984 cm\n"
          ]
        }
      ],
      "source": [
        "radio = float(input(\"Ingrese el radio del círculo: \"))\n",
        "area = 3.1416 * radio ** 2\n",
        "longitud = 2 * 3.1416 * radio\n",
        "print(\"El área del círculo es: \", area,\"cm\")\n",
        "print(\"La longitud de la circunferencia es: \", longitud,\"cm\")"
      ]
    },
    {
      "cell_type": "markdown",
      "source": [
        "17.  Dado el radio de un círculo. Haga un algoritmo que obtenga el área del círculo y la longitud de la circunferencia.\n"
      ],
      "metadata": {
        "id": "ctfERTz3ZmN_"
      }
    }
  ]
}