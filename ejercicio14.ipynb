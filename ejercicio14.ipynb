{
  "nbformat": 4,
  "nbformat_minor": 0,
  "metadata": {
    "colab": {
      "provenance": [],
      "authorship_tag": "ABX9TyN4vYviLN11MAOySsr4m7zx",
      "include_colab_link": true
    },
    "kernelspec": {
      "name": "python3",
      "display_name": "Python 3"
    },
    "language_info": {
      "name": "python"
    }
  },
  "cells": [
    {
      "cell_type": "markdown",
      "metadata": {
        "id": "view-in-github",
        "colab_type": "text"
      },
      "source": [
        "<a href=\"https://colab.research.google.com/github/jucallev-sudo/ejercicios-de-seguimiento-POO/blob/main/ejercicio14.ipynb\" target=\"_parent\"><img src=\"https://colab.research.google.com/assets/colab-badge.svg\" alt=\"Open In Colab\"/></a>"
      ]
    },
    {
      "cell_type": "code",
      "execution_count": 1,
      "metadata": {
        "colab": {
          "base_uri": "https://localhost:8080/"
        },
        "id": "Vzm4OECGfg8g",
        "outputId": "744640bf-9349-44d6-fd58-74289c8df4db"
      },
      "outputs": [
        {
          "output_type": "stream",
          "name": "stdout",
          "text": [
            "ingrese el numero del cual quiere sacar su cubo y su cuadrado8\n",
            "el cubo de 8 es 512\n",
            "el cuadrado de 8 es 64\n"
          ]
        }
      ],
      "source": [
        "NUm = int(input(\"ingrese el numero del cual quiere sacar su cubo y su cuadrado\"))\n",
        "\n",
        "xcubo = NUm**3\n",
        "\n",
        "xcuadrado = NUm**2\n",
        "\n",
        "print(\"el cubo de\", NUm, \"es\", xcubo)\n",
        "\n",
        "print(\"el cuadrado de\", NUm, \"es\", xcuadrado)"
      ]
    }
  ]
}