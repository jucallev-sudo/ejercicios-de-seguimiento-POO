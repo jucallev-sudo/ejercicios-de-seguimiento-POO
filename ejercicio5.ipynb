{
  "nbformat": 4,
  "nbformat_minor": 0,
  "metadata": {
    "colab": {
      "provenance": [],
      "authorship_tag": "ABX9TyO+Vw99RFSUKtb7t59AICtu",
      "include_colab_link": true
    },
    "kernelspec": {
      "name": "python3",
      "display_name": "Python 3"
    },
    "language_info": {
      "name": "python"
    }
  },
  "cells": [
    {
      "cell_type": "markdown",
      "metadata": {
        "id": "view-in-github",
        "colab_type": "text"
      },
      "source": [
        "<a href=\"https://colab.research.google.com/github/jucallev-sudo/ejercicios-de-seguimiento-POO/blob/main/ejercicio5.ipynb\" target=\"_parent\"><img src=\"https://colab.research.google.com/assets/colab-badge.svg\" alt=\"Open In Colab\"/></a>"
      ]
    },
    {
      "cell_type": "code",
      "execution_count": 2,
      "metadata": {
        "colab": {
          "base_uri": "https://localhost:8080/"
        },
        "id": "cQ4jHDZwXwen",
        "outputId": "32fc0429-1249-4523-ad13-beb1bc6ee46e"
      },
      "outputs": [
        {
          "output_type": "stream",
          "name": "stdout",
          "text": [
            "EL VALOR DE LA SUMA ES: 60.5\n"
          ]
        }
      ],
      "source": [
        "class inicio():\n",
        "  SUMA = 0\n",
        "  X = 20\n",
        "  SUMA = SUMA + X\n",
        "  Y = 40\n",
        "  X = X + Y ** 2\n",
        "  SUMA = SUMA + X / Y\n",
        "  print(\"EL VALOR DE LA SUMA ES:\",SUMA)\n"
      ]
    }
  ]
}