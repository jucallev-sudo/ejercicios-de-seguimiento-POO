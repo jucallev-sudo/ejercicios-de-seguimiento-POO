{
  "nbformat": 4,
  "nbformat_minor": 0,
  "metadata": {
    "colab": {
      "provenance": [],
      "authorship_tag": "ABX9TyPILiWOETDLCqDUldrEg8L+",
      "include_colab_link": true
    },
    "kernelspec": {
      "name": "python3",
      "display_name": "Python 3"
    },
    "language_info": {
      "name": "python"
    }
  },
  "cells": [
    {
      "cell_type": "markdown",
      "metadata": {
        "id": "view-in-github",
        "colab_type": "text"
      },
      "source": [
        "<a href=\"https://colab.research.google.com/github/jucallev-sudo/ejercicios-de-seguimiento-POO/blob/main/ejercicio%204.ipynb\" target=\"_parent\"><img src=\"https://colab.research.google.com/assets/colab-badge.svg\" alt=\"Open In Colab\"/></a>"
      ]
    },
    {
      "cell_type": "code",
      "execution_count": null,
      "metadata": {
        "colab": {
          "base_uri": "https://localhost:8080/"
        },
        "id": "S-Z9iof3sq4l",
        "outputId": "a256cacc-e8d6-4173-d648-cfcbfe8b9a26"
      },
      "outputs": [
        {
          "output_type": "stream",
          "name": "stdout",
          "text": [
            "ingrese edad de juan:15\n",
            "15 juan\n",
            "10.0 alberto\n",
            "20.0 ana\n",
            "45.0 mama\n"
          ]
        }
      ],
      "source": [
        "\n",
        "  edjuan = int(input(\"ingrese edad de juan:\"))\n",
        "\n",
        "  edalberto = 2*edjuan/3\n",
        "  edana = 4*edjuan/3\n",
        "  edmama = edana+edalberto+edjuan\n",
        "\n",
        "  print(edjuan,\"juan\")\n",
        "  print(edalberto,\"alberto\")\n",
        "  print(edana,\"ana\")\n",
        "  print(edmama,\"mama\")\n",
        "\n"
      ]
    }
  ]
}