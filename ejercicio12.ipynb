{
  "nbformat": 4,
  "nbformat_minor": 0,
  "metadata": {
    "colab": {
      "provenance": [],
      "authorship_tag": "ABX9TyPUFbvROrt1FiX/OG6cPzHx",
      "include_colab_link": true
    },
    "kernelspec": {
      "name": "python3",
      "display_name": "Python 3"
    },
    "language_info": {
      "name": "python"
    }
  },
  "cells": [
    {
      "cell_type": "markdown",
      "metadata": {
        "id": "view-in-github",
        "colab_type": "text"
      },
      "source": [
        "<a href=\"https://colab.research.google.com/github/jucallev-sudo/ejercicios-de-seguimiento-POO/blob/main/ejercicio12.ipynb\" target=\"_parent\"><img src=\"https://colab.research.google.com/assets/colab-badge.svg\" alt=\"Open In Colab\"/></a>"
      ]
    },
    {
      "cell_type": "code",
      "execution_count": 8,
      "metadata": {
        "colab": {
          "base_uri": "https://localhost:8080/"
        },
        "id": "2Ye7uhd2Umz1",
        "outputId": "dd3e52f0-5964-4bd5-960d-ff5752aa0223"
      },
      "outputs": [
        {
          "output_type": "stream",
          "name": "stdout",
          "text": [
            "El Salario Bruto del Empleado es de: 960000\n",
            "La Retencion de fuente del Empleado es de: 120000.0\n",
            "El Salario Neto del Empleado es de: 840000.0\n"
          ]
        }
      ],
      "source": [
        "empleado_Horas = 48\n",
        "pagoxHora = 5000\n",
        "Retencionfuente = 0.125\n",
        "Semanas_Trabajadas = 4\n",
        "SalarioBruto = empleado_Horas * pagoxHora * Semanas_Trabajadas\n",
        "RetencionFuente = SalarioBruto * Retencionfuente\n",
        "SalarioNeto = SalarioBruto - RetencionFuente\n",
        "print(\"El Salario Bruto del Empleado es de:\",SalarioBruto)\n",
        "print(\"La Retencion de fuente del Empleado es de:\",RetencionFuente)\n",
        "print(\"El Salario Neto del Empleado es de:\",SalarioNeto)"
      ]
    },
    {
      "cell_type": "markdown",
      "source": [
        " Un empleado trabaja 48 horas en la semana a razón de $5.000 hora. El porcentaje de retención en la fuente es del 12,5% del salario bruto. Se desea saber cuál es el salario bruto, la retención en la fuente y el salario neto del trabajador."
      ],
      "metadata": {
        "id": "NBU8kZd6VEYY"
      }
    }
  ]
}